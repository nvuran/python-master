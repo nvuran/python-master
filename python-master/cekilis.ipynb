{
 "cells": [
  {
   "cell_type": "code",
   "execution_count": 1,
   "metadata": {},
   "outputs": [],
   "source": [
    "import tweepy\n",
    "import random\n",
    "consumer_key = \"2Q9sFL5yexPepBkzoE9yipD6n\"\n",
    "consumer_secret = \"o1JLOmv1PtTRO0fIiYGEobP2yI4jbhae5Xu6LslAps5vuJYMkV\"\n",
    "bearer_token = \"AAAAAAAAAAAAAAAAAAAAAJQqcQEAAAAA3KAxj4mkkBB8tBrPzhk0wi7bvjU%3D36LmKxkF5lw0UjPTBTxfc2zCdT7DVA3cChkZlveapmrlGTukMc\"\n",
    "access_token = \"1384745694628569090-lSHXyI8ppv49dGQf5HELgKbAbKz1AO\"\n",
    "access_token_secret = \"z58Xqi4DDee2FMDADY2Tc7V0BuAW0uqdHpDKKhqtvvfuU\"\n",
    "client_id = \"THk4R3oyRE9DYTF2d3ZlYVNETU86MTpjaQ\"\n",
    "client_secret = \"9OMxtVIQMlRqahAQ9elHyO2FcbRb5nMZJccO0wL5IPZxVufG6h\"\n"
   ]
  },
  {
   "cell_type": "code",
   "execution_count": 2,
   "metadata": {},
   "outputs": [],
   "source": [
    "client = tweepy.Client(bearer_token)\n",
    "ID = 1578403984355762176"
   ]
  },
  {
   "cell_type": "code",
   "execution_count": 3,
   "metadata": {},
   "outputs": [
    {
     "data": {
      "text/plain": [
       "['_____xqc',\n",
       " 'winchellnk',\n",
       " 'Caylakbilisimci',\n",
       " 'devokanu',\n",
       " 'CryptoSultanI',\n",
       " 'iremnozsoy',\n",
       " 'Adaaa_aaa',\n",
       " '0xfsk',\n",
       " 'hasangokkayadev',\n",
       " 'sir_shortpanda',\n",
       " 'zeyneptirak',\n",
       " 'zhr4kgl',\n",
       " 'meadev11',\n",
       " '_____xqc',\n",
       " 'winchellnk',\n",
       " 'Caylakbilisimci',\n",
       " 'devokanu',\n",
       " 'CryptoSultanI',\n",
       " 'iremnozsoy',\n",
       " 'Adaaa_aaa',\n",
       " '0xfsk',\n",
       " 'hasangokkayadev',\n",
       " 'sir_shortpanda',\n",
       " 'zeyneptirak',\n",
       " 'zhr4kgl',\n",
       " 'meadev11',\n",
       " '_____xqc',\n",
       " 'winchellnk',\n",
       " 'Caylakbilisimci',\n",
       " 'devokanu',\n",
       " 'CryptoSultanI',\n",
       " 'iremnozsoy',\n",
       " 'Adaaa_aaa',\n",
       " '0xfsk',\n",
       " 'hasangokkayadev',\n",
       " 'sir_shortpanda',\n",
       " 'zeyneptirak',\n",
       " 'zhr4kgl',\n",
       " 'meadev11']"
      ]
     },
     "execution_count": 3,
     "metadata": {},
     "output_type": "execute_result"
    }
   ],
   "source": [
    "retweet_list = client.get_retweeters(ID)[0]\n",
    "retweet_list = retweet_list * 3\n",
    "retweets = []\n",
    "\n",
    "for retweet in retweet_list:\n",
    "    retweets.append(retweet.username)\n",
    "\n",
    "retweets"
   ]
  },
  {
   "cell_type": "code",
   "execution_count": 4,
   "metadata": {},
   "outputs": [
    {
     "data": {
      "text/plain": [
       "['returnfaIse',\n",
       " 'W41N1ZxA7Ct9',\n",
       " 'ayhangad',\n",
       " 'menoktaokan',\n",
       " 'alpersnr',\n",
       " 'cryptolarm',\n",
       " 'mgorkemuz',\n",
       " '_____xqc',\n",
       " 'winchellnk',\n",
       " 'KimmHsss',\n",
       " 'devokanu',\n",
       " 'komponentss',\n",
       " 'seyyartasarimci',\n",
       " 'CryptoSultanI',\n",
       " 'cemilization',\n",
       " 'osmanalperenk',\n",
       " 'iremnozsoy',\n",
       " 'blhackp',\n",
       " 'enes_myworld_',\n",
       " 'giraybatiturk',\n",
       " 'TuanSSM',\n",
       " 'neseegul1903',\n",
       " 'adnanjpg',\n",
       " 'morcizik',\n",
       " 'Adaaa_aaa',\n",
       " 'asequik',\n",
       " 'fatmaccetin',\n",
       " 'ahmt42_',\n",
       " 'daimatoulu',\n",
       " '0xfsk',\n",
       " 'bakikocero1',\n",
       " 'becografi',\n",
       " 'hsturkyilmaz',\n",
       " 'elifgayeaslan',\n",
       " 'aaltankurt',\n",
       " 'hasangokkayadev',\n",
       " 'alierencn',\n",
       " 'FtrtS',\n",
       " 'enesatif',\n",
       " 'caglapekogluu',\n",
       " 'napiyosunoslem',\n",
       " 'mervegosaurus',\n",
       " 'kbrsyf',\n",
       " 'BahadirTalha',\n",
       " 'sir_shortpanda',\n",
       " 'hasandincer0',\n",
       " 'NihatAkkaya33',\n",
       " 'Tasikardi__',\n",
       " 'HamzaBeyw',\n",
       " 'zeyneptirak',\n",
       " 'losermuggle',\n",
       " 'zhr4kgl',\n",
       " 'Zeeskylaw',\n",
       " 'lutfiye2897',\n",
       " 'alptwo_',\n",
       " 'Caylakbilisimci',\n",
       " 'meadev11']"
      ]
     },
     "execution_count": 4,
     "metadata": {},
     "output_type": "execute_result"
    }
   ],
   "source": [
    "fav_list = client.get_liking_users(ID)[0]\n",
    "fav_list\n",
    "likes = []\n",
    "for fav in fav_list:\n",
    "    likes.append(fav.username)\n",
    "likes"
   ]
  },
  {
   "cell_type": "code",
   "execution_count": 5,
   "metadata": {},
   "outputs": [
    {
     "name": "stdout",
     "output_type": "stream",
     "text": [
      "1\n",
      "1\n",
      "1\n",
      "1\n",
      "1\n",
      "1\n",
      "1\n",
      "1\n",
      "1\n",
      "1\n",
      "1\n",
      "1\n",
      "1\n",
      "1\n",
      "1\n",
      "1\n",
      "1\n",
      "1\n",
      "1\n",
      "1\n",
      "1\n",
      "1\n",
      "1\n",
      "1\n",
      "1\n",
      "1\n",
      "1\n",
      "1\n",
      "1\n",
      "1\n",
      "1\n",
      "1\n",
      "1\n",
      "1\n",
      "1\n",
      "1\n",
      "1\n",
      "1\n",
      "1\n",
      "1\n",
      "1\n",
      "1\n",
      "1\n",
      "1\n",
      "1\n",
      "1\n",
      "1\n",
      "1\n",
      "1\n",
      "1\n",
      "1\n",
      "1\n",
      "1\n",
      "1\n",
      "1\n",
      "1\n",
      "1\n"
     ]
    }
   ],
   "source": [
    "likes\n",
    "for like in likes: \n",
    "    print(likes.count(like))"
   ]
  },
  {
   "cell_type": "code",
   "execution_count": 6,
   "metadata": {},
   "outputs": [
    {
     "name": "stdout",
     "output_type": "stream",
     "text": [
      "3\n",
      "3\n",
      "3\n",
      "3\n",
      "3\n",
      "3\n",
      "3\n",
      "3\n",
      "3\n",
      "3\n",
      "3\n",
      "3\n",
      "3\n",
      "3\n",
      "3\n",
      "3\n",
      "3\n",
      "3\n",
      "3\n",
      "3\n",
      "3\n",
      "3\n",
      "3\n",
      "3\n",
      "3\n",
      "3\n",
      "3\n",
      "3\n",
      "3\n",
      "3\n",
      "3\n",
      "3\n",
      "3\n",
      "3\n",
      "3\n",
      "3\n",
      "3\n",
      "3\n",
      "3\n"
     ]
    }
   ],
   "source": [
    "for retweet in retweets:\n",
    "    print(retweets.count(retweet))\n",
    "  "
   ]
  },
  {
   "cell_type": "code",
   "execution_count": 15,
   "metadata": {},
   "outputs": [
    {
     "data": {
      "text/plain": [
       "2"
      ]
     },
     "execution_count": 15,
     "metadata": {},
     "output_type": "execute_result"
    }
   ],
   "source": [
    "lastArr = retweets + likes \n",
    "\n",
    "r = random.randint(0,len(lastArr)-1)\n",
    "\n",
    "r"
   ]
  },
  {
   "cell_type": "code",
   "execution_count": 17,
   "metadata": {},
   "outputs": [
    {
     "data": {
      "text/plain": [
       "4"
      ]
     },
     "execution_count": 17,
     "metadata": {},
     "output_type": "execute_result"
    }
   ],
   "source": [
    "lastArr.count('zeyneptirak')"
   ]
  },
  {
   "cell_type": "code",
   "execution_count": null,
   "metadata": {},
   "outputs": [],
   "source": []
  }
 ],
 "metadata": {
  "kernelspec": {
   "display_name": "Python 3.10.8 64-bit",
   "language": "python",
   "name": "python3"
  },
  "language_info": {
   "codemirror_mode": {
    "name": "ipython",
    "version": 3
   },
   "file_extension": ".py",
   "mimetype": "text/x-python",
   "name": "python",
   "nbconvert_exporter": "python",
   "pygments_lexer": "ipython3",
   "version": "3.10.8"
  },
  "orig_nbformat": 4,
  "vscode": {
   "interpreter": {
    "hash": "369f2c481f4da34e4445cda3fffd2e751bd1c4d706f27375911949ba6bb62e1c"
   }
  }
 },
 "nbformat": 4,
 "nbformat_minor": 2
}
