{
 "cells": [
  {
   "cell_type": "code",
   "execution_count": null,
   "metadata": {},
   "outputs": [],
   "source": [
    "import pandas as pd\n",
    "import numpy as np\n",
    "import matplotlib.pyplot as plt\n",
    "import seaborn as sns\n",
    "import tensorflow as tf\n",
    "from sklearn.preprocessing import LabelEncoder\n",
    "from sklearn.model_selection import train_test_split\n",
    "from sklearn.metrics import confusion_matrix\n",
    "from keras.preprocessing.text import Tokenizer\n",
    "from keras.layers import LSTM, Dense, Dropout, Embedding\n",
    "from keras.preprocessing import sequence\n",
    "from keras.utils import np_utils\n",
    "from keras.models import Sequential\n",
    "from keras.layers import SpatialDropout1D\n",
    "from mlxtend.plotting import plot_confusion_matrix\n",
    "from tensorflow.keras.layers import Dense, Dropout, Conv1D, MaxPool1D, BatchNormalization\n",
    "from keras.optimizers import SGD, Adam\n",
    "from sklearn.metrics import classification_report\n",
    "from sklearn.metrics import accuracy_score\n",
    "from sklearn.metrics import precision_score\n",
    "from sklearn.metrics import recall_score\n",
    "from sklearn.metrics import f1_score\n",
    "from tensorflow.keras import activations\n",
    "from tensorflow.keras import  layers\n",
    "from tensorflow.keras.utils import plot_model\n",
    "from sklearn import preprocessing\n",
    "from sklearn.metrics import precision_score, recall_score, f1_score, accuracy_score\n",
    "\n"
   ]
  },
  {
   "cell_type": "code",
   "execution_count": null,
   "metadata": {},
   "outputs": [],
   "source": [
    "data = pd.read_csv('./newDataframe.csv')\n",
    "data = data.drop(data.columns[[0]], axis=1)\n",
    "data"
   ]
  },
  {
   "cell_type": "code",
   "execution_count": null,
   "metadata": {},
   "outputs": [],
   "source": [
    "X_train, X_test, y_train, y_test = train_test_split(data, data['MALWARE'], test_size=0.2, \n",
    "                                                    shuffle=True, random_state=42)\n",
    "\n",
    "\n",
    "\n",
    "# The LSTM architecture\n",
    "model = Sequential()\n",
    "# First LSTM layer with Dropout regularisation\n",
    "model.add(LSTM(units=50, return_sequences=True, input_shape=(X_train.shape[1],1)))\n",
    "model.add(Dropout(0.5))\n",
    "# Second LSTM layer\n",
    "model.add(LSTM(units=50, return_sequences=True))\n",
    "model.add(Dropout(0.5))\n",
    "# Third LSTM layer\n",
    "model.add(LSTM(units=50, return_sequences=True))\n",
    "model.add(Dropout(0.5))\n",
    "# Fourth LSTM layer\n",
    "model.add(LSTM(units=50))\n",
    "model.add(Dropout(0.5))\n",
    "# The output layer\n",
    "model.add(Dense(units=1))\n",
    "model.add(layers.Activation(activations.sigmoid))\n"
   ]
  },
  {
   "cell_type": "code",
   "execution_count": null,
   "metadata": {},
   "outputs": [],
   "source": [
    "optimizer = Adam(lr=.001)\n",
    "model.compile(loss='binary_crossentropy', optimizer=optimizer, metrics=['accuracy'])"
   ]
  },
  {
   "cell_type": "code",
   "execution_count": null,
   "metadata": {},
   "outputs": [],
   "source": [
    "history = model.fit(X_train, y_train, validation_split=0.2, epochs=500, batch_size=64)"
   ]
  },
  {
   "cell_type": "code",
   "execution_count": null,
   "metadata": {},
   "outputs": [],
   "source": [
    "y_pred=model.predict(X_test) "
   ]
  },
  {
   "cell_type": "code",
   "execution_count": null,
   "metadata": {},
   "outputs": [],
   "source": [
    "y_test"
   ]
  },
  {
   "cell_type": "code",
   "execution_count": null,
   "metadata": {},
   "outputs": [],
   "source": [
    "y_pred"
   ]
  },
  {
   "cell_type": "code",
   "execution_count": null,
   "metadata": {},
   "outputs": [],
   "source": [
    "y_pred\n",
    "\n",
    "# import math\n",
    "def NormalizeData(data):\n",
    "    return (data - np.min(data)) / (np.max(data) - np.min(data))\n",
    "\n",
    "# print(NormalizeData(y_pred))\n",
    "\n",
    "#\n",
    "\n",
    "normalized_y_pred = NormalizeData(y_pred)\n",
    "\n",
    "rounded_y_pred=np.round(normalized_y_pred)\n"
   ]
  },
  {
   "cell_type": "code",
   "execution_count": null,
   "metadata": {},
   "outputs": [],
   "source": [
    "rounded_y_pred"
   ]
  },
  {
   "cell_type": "code",
   "execution_count": null,
   "metadata": {},
   "outputs": [],
   "source": [
    "accuracy_score=accuracy_score(y_test, rounded_y_pred)\n",
    "conf_matrix=confusion_matrix(y_test,rounded_y_pred)\n",
    "f1_score= f1_score(y_test,rounded_y_pred)\n",
    "macro_avg= f1_score(y_test,rounded_y_pred,average='macro')\n",
    "micro_avg= f1_score(y_test, rounded_y_pred, average='micro')\n",
    "precision=precision_score(y_test,rounded_y_pred)\n",
    "recall=recall_score(y_test,rounded_y_pred)"
   ]
  },
  {
   "cell_type": "code",
   "execution_count": null,
   "metadata": {},
   "outputs": [],
   "source": [
    "resultDf=pd.DataFrame()\n",
    "\n",
    "resultDf['F1 Scores'] = f1_score\n",
    "resultDf['Accuracy Scores'] = accuracy_score\n",
    "resultDf['Precision Scores'] = precision\n",
    "resultDf['Recall Scores'] = recall\n",
    "resultDf['Micro Averages'] = micro_avg\n",
    "resultDf['Macro Averages '] = macro_avg\n"
   ]
  },
  {
   "cell_type": "code",
   "execution_count": null,
   "metadata": {},
   "outputs": [],
   "source": [
    "resultDf"
   ]
  },
  {
   "cell_type": "code",
   "execution_count": null,
   "metadata": {},
   "outputs": [],
   "source": [
    "#print(classification_report(y_test, rounded_y_pred.flatten()))"
   ]
  }
 ],
 "metadata": {
  "interpreter": {
   "hash": "ff859f9ddbe57c1b20faa80ffd787899c675cdcb4b58954c3009f5585bb4471e"
  },
  "kernelspec": {
   "display_name": "Python 3.9.0 64-bit",
   "language": "python",
   "name": "python3"
  },
  "language_info": {
   "codemirror_mode": {
    "name": "ipython",
    "version": 3
   },
   "file_extension": ".py",
   "mimetype": "text/x-python",
   "name": "python",
   "nbconvert_exporter": "python",
   "pygments_lexer": "ipython3",
   "version": "3.9.0 (tags/v3.9.0:9cf6752, Oct  5 2020, 15:34:40) [MSC v.1927 64 bit (AMD64)]"
  },
  "orig_nbformat": 4
 },
 "nbformat": 4,
 "nbformat_minor": 2
}
